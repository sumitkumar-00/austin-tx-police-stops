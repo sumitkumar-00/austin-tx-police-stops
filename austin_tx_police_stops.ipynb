{
 "cells": [
  {
   "cell_type": "code",
   "execution_count": 435,
   "metadata": {},
   "outputs": [],
   "source": [
    "import pandas as pd\n",
    "import matplotlib as plt\n",
    "from plotnine import *\n",
    "police= pd.read_csv('austin_tx_police.csv')"
   ]
  },
  {
   "cell_type": "code",
   "execution_count": 436,
   "metadata": {},
   "outputs": [
    {
     "name": "stdout",
     "output_type": "stream",
     "text": [
      "<class 'pandas.core.frame.DataFrame'>\n",
      "RangeIndex: 483255 entries, 0 to 483254\n",
      "Data columns (total 29 columns):\n",
      " #   Column                                Non-Null Count   Dtype  \n",
      "---  ------                                --------------   -----  \n",
      " 0   raw_row_number                        483255 non-null  object \n",
      " 1   date                                  483255 non-null  object \n",
      " 2   subject_age                           480091 non-null  float64\n",
      " 3   subject_race                          483253 non-null  object \n",
      " 4   subject_sex                           482881 non-null  object \n",
      " 5   officer_id_hash                       483255 non-null  object \n",
      " 6   type                                  372991 non-null  object \n",
      " 7   contraband_found                      19256 non-null   object \n",
      " 8   contraband_drugs                      19256 non-null   object \n",
      " 9   contraband_weapons                    19256 non-null   object \n",
      " 10  frisk_performed                       483255 non-null  bool   \n",
      " 11  search_conducted                      483255 non-null  bool   \n",
      " 12  search_person                         483255 non-null  bool   \n",
      " 13  search_vehicle                        483255 non-null  bool   \n",
      " 14  search_basis                          19256 non-null   object \n",
      " 15  reason_for_stop                       483250 non-null  object \n",
      " 16  vehicle_make                          470758 non-null  object \n",
      " 17  vehicle_model                         149726 non-null  object \n",
      " 18  vehicle_registration_state            475959 non-null  object \n",
      " 19  vehicle_year                          372685 non-null  float64\n",
      " 20  raw_ethnicity                         321651 non-null  object \n",
      " 21  raw_person_search_search_based_on     17277 non-null   object \n",
      " 22  raw_person_search_search_discovered   19847 non-null   object \n",
      " 23  raw_person_searched                   433771 non-null  object \n",
      " 24  raw_vehicle_search_search_based_on    9504 non-null    object \n",
      " 25  raw_vehicle_search_search_discovered  11702 non-null   object \n",
      " 26  raw_vehicle_searched                  402861 non-null  object \n",
      " 27  raw_race_description                  483252 non-null  object \n",
      " 28  raw_street_check_description          483252 non-null  object \n",
      "dtypes: bool(4), float64(2), object(23)\n",
      "memory usage: 94.0+ MB\n"
     ]
    },
    {
     "data": {
      "text/html": [
       "<div>\n",
       "<style scoped>\n",
       "    .dataframe tbody tr th:only-of-type {\n",
       "        vertical-align: middle;\n",
       "    }\n",
       "\n",
       "    .dataframe tbody tr th {\n",
       "        vertical-align: top;\n",
       "    }\n",
       "\n",
       "    .dataframe thead th {\n",
       "        text-align: right;\n",
       "    }\n",
       "</style>\n",
       "<table border=\"1\" class=\"dataframe\">\n",
       "  <thead>\n",
       "    <tr style=\"text-align: right;\">\n",
       "      <th></th>\n",
       "      <th>raw_row_number</th>\n",
       "      <th>date</th>\n",
       "      <th>subject_age</th>\n",
       "      <th>subject_race</th>\n",
       "      <th>subject_sex</th>\n",
       "      <th>officer_id_hash</th>\n",
       "      <th>type</th>\n",
       "      <th>contraband_found</th>\n",
       "      <th>contraband_drugs</th>\n",
       "      <th>contraband_weapons</th>\n",
       "      <th>...</th>\n",
       "      <th>vehicle_year</th>\n",
       "      <th>raw_ethnicity</th>\n",
       "      <th>raw_person_search_search_based_on</th>\n",
       "      <th>raw_person_search_search_discovered</th>\n",
       "      <th>raw_person_searched</th>\n",
       "      <th>raw_vehicle_search_search_based_on</th>\n",
       "      <th>raw_vehicle_search_search_discovered</th>\n",
       "      <th>raw_vehicle_searched</th>\n",
       "      <th>raw_race_description</th>\n",
       "      <th>raw_street_check_description</th>\n",
       "    </tr>\n",
       "  </thead>\n",
       "  <tbody>\n",
       "    <tr>\n",
       "      <th>0</th>\n",
       "      <td>141</td>\n",
       "      <td>2006-01-07</td>\n",
       "      <td>53.0</td>\n",
       "      <td>white</td>\n",
       "      <td>female</td>\n",
       "      <td>59c9092a79</td>\n",
       "      <td>vehicular</td>\n",
       "      <td>False</td>\n",
       "      <td>False</td>\n",
       "      <td>False</td>\n",
       "      <td>...</td>\n",
       "      <td>1996.0</td>\n",
       "      <td>NaN</td>\n",
       "      <td>NaN</td>\n",
       "      <td>NaN</td>\n",
       "      <td>YES = -</td>\n",
       "      <td>NaN</td>\n",
       "      <td>NaN</td>\n",
       "      <td>YES = -</td>\n",
       "      <td>WHITE</td>\n",
       "      <td>WARNING</td>\n",
       "    </tr>\n",
       "    <tr>\n",
       "      <th>1</th>\n",
       "      <td>4819</td>\n",
       "      <td>2006-03-21</td>\n",
       "      <td>21.0</td>\n",
       "      <td>white</td>\n",
       "      <td>male</td>\n",
       "      <td>46f8ed46eb</td>\n",
       "      <td>vehicular</td>\n",
       "      <td>NaN</td>\n",
       "      <td>NaN</td>\n",
       "      <td>NaN</td>\n",
       "      <td>...</td>\n",
       "      <td>2000.0</td>\n",
       "      <td>NaN</td>\n",
       "      <td>NaN</td>\n",
       "      <td>NaN</td>\n",
       "      <td>NO = -</td>\n",
       "      <td>NaN</td>\n",
       "      <td>NaN</td>\n",
       "      <td>NO= -</td>\n",
       "      <td>WHITE</td>\n",
       "      <td>WARNING</td>\n",
       "    </tr>\n",
       "    <tr>\n",
       "      <th>2</th>\n",
       "      <td>4820</td>\n",
       "      <td>2006-03-21</td>\n",
       "      <td>43.0</td>\n",
       "      <td>black</td>\n",
       "      <td>female</td>\n",
       "      <td>0d1d4fb150</td>\n",
       "      <td>vehicular</td>\n",
       "      <td>NaN</td>\n",
       "      <td>NaN</td>\n",
       "      <td>NaN</td>\n",
       "      <td>...</td>\n",
       "      <td>2003.0</td>\n",
       "      <td>NaN</td>\n",
       "      <td>NaN</td>\n",
       "      <td>NaN</td>\n",
       "      <td>NO = -</td>\n",
       "      <td>NaN</td>\n",
       "      <td>NaN</td>\n",
       "      <td>NO= -</td>\n",
       "      <td>BLACK</td>\n",
       "      <td>WARNING</td>\n",
       "    </tr>\n",
       "    <tr>\n",
       "      <th>3</th>\n",
       "      <td>4821</td>\n",
       "      <td>2006-04-20</td>\n",
       "      <td>46.0</td>\n",
       "      <td>hispanic</td>\n",
       "      <td>male</td>\n",
       "      <td>c70bca9788</td>\n",
       "      <td>NaN</td>\n",
       "      <td>NaN</td>\n",
       "      <td>NaN</td>\n",
       "      <td>NaN</td>\n",
       "      <td>...</td>\n",
       "      <td>1994.0</td>\n",
       "      <td>H</td>\n",
       "      <td>NaN</td>\n",
       "      <td>NaN</td>\n",
       "      <td>NO = -</td>\n",
       "      <td>NaN</td>\n",
       "      <td>NaN</td>\n",
       "      <td>NO= -</td>\n",
       "      <td>WHITE</td>\n",
       "      <td>WARNING</td>\n",
       "    </tr>\n",
       "    <tr>\n",
       "      <th>4</th>\n",
       "      <td>4822</td>\n",
       "      <td>2006-03-21</td>\n",
       "      <td>25.0</td>\n",
       "      <td>white</td>\n",
       "      <td>male</td>\n",
       "      <td>e3f693e058</td>\n",
       "      <td>vehicular</td>\n",
       "      <td>NaN</td>\n",
       "      <td>NaN</td>\n",
       "      <td>NaN</td>\n",
       "      <td>...</td>\n",
       "      <td>2002.0</td>\n",
       "      <td>NaN</td>\n",
       "      <td>NaN</td>\n",
       "      <td>NaN</td>\n",
       "      <td>NO = -</td>\n",
       "      <td>NaN</td>\n",
       "      <td>NaN</td>\n",
       "      <td>NO= -</td>\n",
       "      <td>WHITE</td>\n",
       "      <td>WARNING</td>\n",
       "    </tr>\n",
       "    <tr>\n",
       "      <th>5</th>\n",
       "      <td>4824</td>\n",
       "      <td>2006-04-20</td>\n",
       "      <td>65.0</td>\n",
       "      <td>white</td>\n",
       "      <td>male</td>\n",
       "      <td>c70bca9788</td>\n",
       "      <td>NaN</td>\n",
       "      <td>NaN</td>\n",
       "      <td>NaN</td>\n",
       "      <td>NaN</td>\n",
       "      <td>...</td>\n",
       "      <td>1991.0</td>\n",
       "      <td>NaN</td>\n",
       "      <td>NaN</td>\n",
       "      <td>NaN</td>\n",
       "      <td>NO = -</td>\n",
       "      <td>NaN</td>\n",
       "      <td>NaN</td>\n",
       "      <td>NO= -</td>\n",
       "      <td>WHITE</td>\n",
       "      <td>WARNING</td>\n",
       "    </tr>\n",
       "    <tr>\n",
       "      <th>6</th>\n",
       "      <td>4823</td>\n",
       "      <td>2006-04-20</td>\n",
       "      <td>65.0</td>\n",
       "      <td>white</td>\n",
       "      <td>male</td>\n",
       "      <td>c70bca9788</td>\n",
       "      <td>NaN</td>\n",
       "      <td>NaN</td>\n",
       "      <td>NaN</td>\n",
       "      <td>NaN</td>\n",
       "      <td>...</td>\n",
       "      <td>1995.0</td>\n",
       "      <td>NaN</td>\n",
       "      <td>NaN</td>\n",
       "      <td>NaN</td>\n",
       "      <td>NO = -</td>\n",
       "      <td>NaN</td>\n",
       "      <td>NaN</td>\n",
       "      <td>NO= -</td>\n",
       "      <td>WHITE</td>\n",
       "      <td>WARNING</td>\n",
       "    </tr>\n",
       "    <tr>\n",
       "      <th>7</th>\n",
       "      <td>4826</td>\n",
       "      <td>2006-04-20</td>\n",
       "      <td>25.0</td>\n",
       "      <td>hispanic</td>\n",
       "      <td>male</td>\n",
       "      <td>c70bca9788</td>\n",
       "      <td>NaN</td>\n",
       "      <td>NaN</td>\n",
       "      <td>NaN</td>\n",
       "      <td>NaN</td>\n",
       "      <td>...</td>\n",
       "      <td>1983.0</td>\n",
       "      <td>H</td>\n",
       "      <td>NaN</td>\n",
       "      <td>NaN</td>\n",
       "      <td>NO = -</td>\n",
       "      <td>NaN</td>\n",
       "      <td>NaN</td>\n",
       "      <td>NO= -</td>\n",
       "      <td>WHITE</td>\n",
       "      <td>WARNING</td>\n",
       "    </tr>\n",
       "    <tr>\n",
       "      <th>8</th>\n",
       "      <td>4825</td>\n",
       "      <td>2006-04-20</td>\n",
       "      <td>25.0</td>\n",
       "      <td>hispanic</td>\n",
       "      <td>male</td>\n",
       "      <td>c70bca9788</td>\n",
       "      <td>NaN</td>\n",
       "      <td>NaN</td>\n",
       "      <td>NaN</td>\n",
       "      <td>NaN</td>\n",
       "      <td>...</td>\n",
       "      <td>1994.0</td>\n",
       "      <td>H</td>\n",
       "      <td>NaN</td>\n",
       "      <td>NaN</td>\n",
       "      <td>NO = -</td>\n",
       "      <td>NaN</td>\n",
       "      <td>NaN</td>\n",
       "      <td>NO= -</td>\n",
       "      <td>WHITE</td>\n",
       "      <td>WARNING</td>\n",
       "    </tr>\n",
       "    <tr>\n",
       "      <th>9</th>\n",
       "      <td>4827</td>\n",
       "      <td>2006-03-21</td>\n",
       "      <td>49.0</td>\n",
       "      <td>white</td>\n",
       "      <td>male</td>\n",
       "      <td>60a3625dbd</td>\n",
       "      <td>vehicular</td>\n",
       "      <td>NaN</td>\n",
       "      <td>NaN</td>\n",
       "      <td>NaN</td>\n",
       "      <td>...</td>\n",
       "      <td>2000.0</td>\n",
       "      <td>NaN</td>\n",
       "      <td>NaN</td>\n",
       "      <td>NaN</td>\n",
       "      <td>NO = -</td>\n",
       "      <td>NaN</td>\n",
       "      <td>NaN</td>\n",
       "      <td>NO= -</td>\n",
       "      <td>WHITE</td>\n",
       "      <td>WARNING</td>\n",
       "    </tr>\n",
       "  </tbody>\n",
       "</table>\n",
       "<p>10 rows × 29 columns</p>\n",
       "</div>"
      ],
      "text/plain": [
       "  raw_row_number        date  subject_age subject_race subject_sex  \\\n",
       "0            141  2006-01-07         53.0        white      female   \n",
       "1           4819  2006-03-21         21.0        white        male   \n",
       "2           4820  2006-03-21         43.0        black      female   \n",
       "3           4821  2006-04-20         46.0     hispanic        male   \n",
       "4           4822  2006-03-21         25.0        white        male   \n",
       "5           4824  2006-04-20         65.0        white        male   \n",
       "6           4823  2006-04-20         65.0        white        male   \n",
       "7           4826  2006-04-20         25.0     hispanic        male   \n",
       "8           4825  2006-04-20         25.0     hispanic        male   \n",
       "9           4827  2006-03-21         49.0        white        male   \n",
       "\n",
       "  officer_id_hash       type contraband_found contraband_drugs  \\\n",
       "0      59c9092a79  vehicular            False            False   \n",
       "1      46f8ed46eb  vehicular              NaN              NaN   \n",
       "2      0d1d4fb150  vehicular              NaN              NaN   \n",
       "3      c70bca9788        NaN              NaN              NaN   \n",
       "4      e3f693e058  vehicular              NaN              NaN   \n",
       "5      c70bca9788        NaN              NaN              NaN   \n",
       "6      c70bca9788        NaN              NaN              NaN   \n",
       "7      c70bca9788        NaN              NaN              NaN   \n",
       "8      c70bca9788        NaN              NaN              NaN   \n",
       "9      60a3625dbd  vehicular              NaN              NaN   \n",
       "\n",
       "  contraband_weapons  ...  vehicle_year  raw_ethnicity  \\\n",
       "0              False  ...        1996.0            NaN   \n",
       "1                NaN  ...        2000.0            NaN   \n",
       "2                NaN  ...        2003.0            NaN   \n",
       "3                NaN  ...        1994.0              H   \n",
       "4                NaN  ...        2002.0            NaN   \n",
       "5                NaN  ...        1991.0            NaN   \n",
       "6                NaN  ...        1995.0            NaN   \n",
       "7                NaN  ...        1983.0              H   \n",
       "8                NaN  ...        1994.0              H   \n",
       "9                NaN  ...        2000.0            NaN   \n",
       "\n",
       "   raw_person_search_search_based_on  raw_person_search_search_discovered  \\\n",
       "0                                NaN                                  NaN   \n",
       "1                                NaN                                  NaN   \n",
       "2                                NaN                                  NaN   \n",
       "3                                NaN                                  NaN   \n",
       "4                                NaN                                  NaN   \n",
       "5                                NaN                                  NaN   \n",
       "6                                NaN                                  NaN   \n",
       "7                                NaN                                  NaN   \n",
       "8                                NaN                                  NaN   \n",
       "9                                NaN                                  NaN   \n",
       "\n",
       "  raw_person_searched raw_vehicle_search_search_based_on  \\\n",
       "0             YES = -                                NaN   \n",
       "1              NO = -                                NaN   \n",
       "2              NO = -                                NaN   \n",
       "3              NO = -                                NaN   \n",
       "4              NO = -                                NaN   \n",
       "5              NO = -                                NaN   \n",
       "6              NO = -                                NaN   \n",
       "7              NO = -                                NaN   \n",
       "8              NO = -                                NaN   \n",
       "9              NO = -                                NaN   \n",
       "\n",
       "  raw_vehicle_search_search_discovered raw_vehicle_searched  \\\n",
       "0                                  NaN              YES = -   \n",
       "1                                  NaN                NO= -   \n",
       "2                                  NaN                NO= -   \n",
       "3                                  NaN                NO= -   \n",
       "4                                  NaN                NO= -   \n",
       "5                                  NaN                NO= -   \n",
       "6                                  NaN                NO= -   \n",
       "7                                  NaN                NO= -   \n",
       "8                                  NaN                NO= -   \n",
       "9                                  NaN                NO= -   \n",
       "\n",
       "  raw_race_description  raw_street_check_description  \n",
       "0                WHITE                       WARNING  \n",
       "1                WHITE                       WARNING  \n",
       "2                BLACK                       WARNING  \n",
       "3                WHITE                       WARNING  \n",
       "4                WHITE                       WARNING  \n",
       "5                WHITE                       WARNING  \n",
       "6                WHITE                       WARNING  \n",
       "7                WHITE                       WARNING  \n",
       "8                WHITE                       WARNING  \n",
       "9                WHITE                       WARNING  \n",
       "\n",
       "[10 rows x 29 columns]"
      ]
     },
     "execution_count": 436,
     "metadata": {},
     "output_type": "execute_result"
    }
   ],
   "source": [
    "police.info()\n",
    "police.head(10)"
   ]
  },
  {
   "cell_type": "code",
   "execution_count": null,
   "metadata": {},
   "outputs": [],
   "source": []
  },
  {
   "cell_type": "markdown",
   "metadata": {},
   "source": [
    "Most of the columns are loaded as strings. A lot of cleanup needed. Select columns of interest"
   ]
  },
  {
   "cell_type": "code",
   "execution_count": 437,
   "metadata": {},
   "outputs": [],
   "source": [
    "police = police.iloc[:,1:20]\n",
    "police = police.drop(['officer_id_hash'], axis=1)\n",
    "\n",
    "#Convert date column to datetime object\n",
    "police['date'] = pd.to_datetime(police['date'], format='%Y-%m-%d')\n",
    "\n",
    "#create new year column\n",
    "police['year_of_date'] = police['date'].dt.year\n",
    "police['year_of_date'] = police['year_of_date'].astype('category')"
   ]
  },
  {
   "cell_type": "code",
   "execution_count": 438,
   "metadata": {},
   "outputs": [
    {
     "data": {
      "text/plain": [
       "white                     268058\n",
       "hispanic                  123943\n",
       "black                      72324\n",
       "asian/pacific islander     13167\n",
       "unknown                     3135\n",
       "other                       2626\n",
       "NaN                            2\n",
       "Name: subject_race, dtype: int64"
      ]
     },
     "execution_count": 438,
     "metadata": {},
     "output_type": "execute_result"
    }
   ],
   "source": [
    "police.subject_race.value_counts(dropna=False)"
   ]
  },
  {
   "cell_type": "code",
   "execution_count": 439,
   "metadata": {},
   "outputs": [],
   "source": [
    "#updating  'unknown' and NaN subject race to 'other'\n",
    "police.loc[(police['subject_race']=='unknown') | (police['subject_race'].isnull()),'subject_race' ] = 'other'"
   ]
  },
  {
   "cell_type": "code",
   "execution_count": 440,
   "metadata": {},
   "outputs": [
    {
     "data": {
      "text/plain": [
       "white                     268058\n",
       "hispanic                  123943\n",
       "black                      72324\n",
       "asian/pacific islander     13167\n",
       "other                       5763\n",
       "Name: subject_race, dtype: int64"
      ]
     },
     "execution_count": 440,
     "metadata": {},
     "output_type": "execute_result"
    }
   ],
   "source": [
    "police.subject_race.value_counts(dropna=False)"
   ]
  },
  {
   "cell_type": "code",
   "execution_count": 441,
   "metadata": {},
   "outputs": [
    {
     "data": {
      "text/plain": [
       "CategoricalDtype(categories=['asian/pacific islander', 'black', 'hispanic', 'other',\n",
       "                  'white'],\n",
       "                 ordered=False)"
      ]
     },
     "execution_count": 441,
     "metadata": {},
     "output_type": "execute_result"
    }
   ],
   "source": [
    "#converting race to category type\n",
    "police.subject_race=police.subject_race.astype('category')\n",
    "police.subject_race.dtypes"
   ]
  },
  {
   "cell_type": "code",
   "execution_count": 442,
   "metadata": {},
   "outputs": [
    {
     "data": {
      "text/plain": [
       "male      340018\n",
       "female    142863\n",
       "NaN          374\n",
       "Name: subject_sex, dtype: int64"
      ]
     },
     "execution_count": 442,
     "metadata": {},
     "output_type": "execute_result"
    }
   ],
   "source": [
    "police.subject_sex.value_counts(dropna=False)"
   ]
  },
  {
   "cell_type": "code",
   "execution_count": 443,
   "metadata": {},
   "outputs": [
    {
     "data": {
      "text/plain": [
       "male      340018\n",
       "female    142863\n",
       "other        374\n",
       "Name: subject_sex, dtype: int64"
      ]
     },
     "execution_count": 443,
     "metadata": {},
     "output_type": "execute_result"
    }
   ],
   "source": [
    "#There is 374 incidents with unknown gender saved as NaN. Converting NaNs to unknown, just in case they reveal some information down the road\n",
    "police.loc[police['subject_sex'].isnull(),'subject_sex'] = 'other'\n",
    "police.subject_sex.value_counts(dropna=False)"
   ]
  },
  {
   "cell_type": "code",
   "execution_count": 444,
   "metadata": {},
   "outputs": [
    {
     "data": {
      "text/plain": [
       "vehicular    372991\n",
       "NaN          110264\n",
       "Name: type, dtype: int64"
      ]
     },
     "execution_count": 444,
     "metadata": {},
     "output_type": "execute_result"
    }
   ],
   "source": [
    "police.type.value_counts(dropna=False)"
   ]
  },
  {
   "cell_type": "code",
   "execution_count": 445,
   "metadata": {},
   "outputs": [
    {
     "data": {
      "text/plain": [
       "vehicular    372991\n",
       "other        110264\n",
       "Name: type, dtype: int64"
      ]
     },
     "execution_count": 445,
     "metadata": {},
     "output_type": "execute_result"
    }
   ],
   "source": [
    "#converting type=NaN to 'other'\n",
    "police.loc[police.type.isnull(), 'type'] = 'other'\n",
    "police.type.value_counts()"
   ]
  },
  {
   "cell_type": "code",
   "execution_count": 446,
   "metadata": {},
   "outputs": [
    {
     "data": {
      "text/plain": [
       "True     463999\n",
       "False     14484\n",
       "True       4772\n",
       "Name: contraband_found, dtype: int64"
      ]
     },
     "execution_count": 446,
     "metadata": {},
     "output_type": "execute_result"
    }
   ],
   "source": [
    "police.contraband_found.value_counts(dropna=False)"
   ]
  },
  {
   "cell_type": "code",
   "execution_count": 447,
   "metadata": {},
   "outputs": [],
   "source": [
    "#It appears that there is some issue with whitespace. Lets strip it out\n",
    "police.contraband_found = police.contraband_found.astype(str).str.strip()"
   ]
  },
  {
   "cell_type": "code",
   "execution_count": 448,
   "metadata": {},
   "outputs": [
    {
     "data": {
      "text/plain": [
       "nan      463999\n",
       "False     14484\n",
       "True       4772\n",
       "Name: contraband_found, dtype: int64"
      ]
     },
     "execution_count": 448,
     "metadata": {},
     "output_type": "execute_result"
    }
   ],
   "source": [
    "police.contraband_found.value_counts(dropna=False)"
   ]
  },
  {
   "cell_type": "markdown",
   "metadata": {},
   "source": [
    "Leaving NaN for now as they are coerced to NaN when no search was conducted per openpolice data desccription"
   ]
  },
  {
   "cell_type": "code",
   "execution_count": 449,
   "metadata": {},
   "outputs": [
    {
     "data": {
      "text/plain": [
       "True     463999\n",
       "False     18977\n",
       "True        279\n",
       "Name: contraband_drugs, dtype: int64"
      ]
     },
     "execution_count": 449,
     "metadata": {},
     "output_type": "execute_result"
    }
   ],
   "source": [
    "police.contraband_drugs.value_counts(dropna=False)"
   ]
  },
  {
   "cell_type": "code",
   "execution_count": 450,
   "metadata": {},
   "outputs": [
    {
     "data": {
      "text/plain": [
       "nan      463999\n",
       "False     18977\n",
       "True        279\n",
       "Name: contraband_drugs, dtype: int64"
      ]
     },
     "execution_count": 450,
     "metadata": {},
     "output_type": "execute_result"
    }
   ],
   "source": [
    "#It appears there is some issue with whitespace in this column as well. Getting rid of whitespace\n",
    "police.contraband_drugs = police.contraband_drugs.astype(str).str.strip()\n",
    "police.contraband_drugs.value_counts(dropna=False)"
   ]
  },
  {
   "cell_type": "code",
   "execution_count": 451,
   "metadata": {},
   "outputs": [
    {
     "data": {
      "text/plain": [
       "nan      463999\n",
       "False     18344\n",
       "True        912\n",
       "Name: contraband_weapons, dtype: int64"
      ]
     },
     "execution_count": 451,
     "metadata": {},
     "output_type": "execute_result"
    }
   ],
   "source": [
    "police.contraband_weapons = police.contraband_weapons.astype(str).str.strip()\n",
    "police.contraband_weapons.value_counts(dropna=False)"
   ]
  },
  {
   "cell_type": "code",
   "execution_count": 452,
   "metadata": {},
   "outputs": [
    {
     "data": {
      "text/plain": [
       "False    472820\n",
       "True      10435\n",
       "Name: frisk_performed, dtype: int64"
      ]
     },
     "execution_count": 452,
     "metadata": {},
     "output_type": "execute_result"
    }
   ],
   "source": [
    "police.frisk_performed.value_counts(dropna=False)"
   ]
  },
  {
   "cell_type": "code",
   "execution_count": 453,
   "metadata": {},
   "outputs": [
    {
     "data": {
      "text/plain": [
       "False    463999\n",
       "True      19256\n",
       "Name: search_conducted, dtype: int64"
      ]
     },
     "execution_count": 453,
     "metadata": {},
     "output_type": "execute_result"
    }
   ],
   "source": [
    "police.search_conducted.value_counts(dropna=False)"
   ]
  },
  {
   "cell_type": "code",
   "execution_count": 454,
   "metadata": {},
   "outputs": [
    {
     "data": {
      "text/plain": [
       "False    466975\n",
       "True      16280\n",
       "Name: search_person, dtype: int64"
      ]
     },
     "execution_count": 454,
     "metadata": {},
     "output_type": "execute_result"
    }
   ],
   "source": [
    "police.search_person.value_counts(dropna=False)"
   ]
  },
  {
   "cell_type": "code",
   "execution_count": 455,
   "metadata": {},
   "outputs": [
    {
     "data": {
      "text/plain": [
       "NaN               463999\n",
       "probable cause     15633\n",
       "consent             3195\n",
       "other                276\n",
       "plain view           152\n",
       "Name: search_basis, dtype: int64"
      ]
     },
     "execution_count": 455,
     "metadata": {},
     "output_type": "execute_result"
    }
   ],
   "source": [
    "police.search_basis.value_counts(dropna=False)"
   ]
  },
  {
   "cell_type": "code",
   "execution_count": 456,
   "metadata": {},
   "outputs": [
    {
     "data": {
      "text/plain": [
       "VIOLATION OF TRANSPORTATION/VEHICLE LAWS                                                     353672\n",
       "OTHER                                                                                         44717\n",
       "VIOLATION OF CITY ORDINANCE                                                                   43431\n",
       "CALL FOR SERVICE                                                                              17722\n",
       "SUSPICIOUS PERSON / VEHICLE                                                                   16528\n",
       "                                                                                              ...  \n",
       "VIOLATION OF TRANSPORTATION/VEHICLE LAWS|SUSPICIOUS PERSON / VEHICLE|MOTOR VEHICLE DRIVER         1\n",
       "SUSPICIOUS PERSON / VEHICLE|VIOLATION OF CITY ORDINANCE|OTHER                                     1\n",
       "OTHER|WATER SAFETY ACT                                                                            1\n",
       "VIOLATION OF PENAL CODE|OTHER|MOTOR VEHICLE DRIVER                                                1\n",
       "CONSENSUAL CONTACT|MOTOR VEHICLE DRIVER                                                           1\n",
       "Name: reason_for_stop, Length: 62, dtype: int64"
      ]
     },
     "execution_count": 456,
     "metadata": {},
     "output_type": "execute_result"
    }
   ],
   "source": [
    "police.reason_for_stop.value_counts(dropna=False)"
   ]
  },
  {
   "cell_type": "code",
   "execution_count": 457,
   "metadata": {},
   "outputs": [
    {
     "data": {
      "text/plain": [
       "FORD    55066\n",
       "CHEV    53090\n",
       "TOYT    39194\n",
       "HOND    35705\n",
       "NISS    24609\n",
       "        ...  \n",
       "BURK        1\n",
       "MARM        1\n",
       "TORI        1\n",
       "VANT        1\n",
       "TRST        1\n",
       "Name: vehicle_make, Length: 1510, dtype: int64"
      ]
     },
     "execution_count": 457,
     "metadata": {},
     "output_type": "execute_result"
    }
   ],
   "source": [
    "police.vehicle_make.value_counts(dropna=False)"
   ]
  },
  {
   "cell_type": "code",
   "execution_count": 458,
   "metadata": {},
   "outputs": [
    {
     "data": {
      "text/plain": [
       "NaN     333529\n",
       "ACC       6147\n",
       "CIV       5297\n",
       "F15       5271\n",
       "CAM       4609\n",
       "         ...  \n",
       "NV C         1\n",
       "C6G          1\n",
       "1987         1\n",
       "GX46         1\n",
       "GS40         1\n",
       "Name: vehicle_model, Length: 2282, dtype: int64"
      ]
     },
     "execution_count": 458,
     "metadata": {},
     "output_type": "execute_result"
    }
   ],
   "source": [
    "police.vehicle_model.value_counts(dropna=False)"
   ]
  },
  {
   "cell_type": "code",
   "execution_count": 459,
   "metadata": {},
   "outputs": [
    {
     "data": {
      "text/plain": [
       "TX     440405\n",
       "NaN      7296\n",
       "OK       4910\n",
       "IL       2595\n",
       "TN       2551\n",
       "CA       2501\n",
       "IN       2403\n",
       "FL       1837\n",
       "LA       1668\n",
       "ME       1219\n",
       "MO       1137\n",
       "OH        831\n",
       "GA        831\n",
       "MI        794\n",
       "AR        760\n",
       "AZ        756\n",
       "IA        699\n",
       "NC        692\n",
       "WI        685\n",
       "NM        641\n",
       "CO        638\n",
       "AL        602\n",
       "KS        535\n",
       "MN        525\n",
       "MS        506\n",
       "NE        496\n",
       "OR        464\n",
       "VA        437\n",
       "PA        417\n",
       "NY        382\n",
       "WA        370\n",
       "KY        286\n",
       "SC        286\n",
       "NJ        270\n",
       "MA        226\n",
       "UT        215\n",
       "MD        215\n",
       "NV        201\n",
       "MT        128\n",
       "SD        113\n",
       "CT        112\n",
       "ID        107\n",
       "AK        102\n",
       "ND         86\n",
       "NH         72\n",
       "WY         46\n",
       "WV         42\n",
       "RI         40\n",
       "HI         40\n",
       "DE         31\n",
       "DC         28\n",
       "VT         26\n",
       "Name: vehicle_registration_state, dtype: int64"
      ]
     },
     "execution_count": 459,
     "metadata": {},
     "output_type": "execute_result"
    }
   ],
   "source": [
    "police.vehicle_registration_state.value_counts(dropna=False)"
   ]
  },
  {
   "cell_type": "code",
   "execution_count": 460,
   "metadata": {},
   "outputs": [
    {
     "data": {
      "text/plain": [
       "NaN       110570\n",
       "2007.0     28365\n",
       "2006.0     26423\n",
       "2005.0     24646\n",
       "2004.0     21913\n",
       "           ...  \n",
       "3003.0         1\n",
       "3002.0         1\n",
       "2996.0         1\n",
       "2994.0         1\n",
       "2044.0         1\n",
       "Name: vehicle_year, Length: 130, dtype: int64"
      ]
     },
     "execution_count": 460,
     "metadata": {},
     "output_type": "execute_result"
    }
   ],
   "source": [
    "police.vehicle_year.value_counts(dropna=False)"
   ]
  },
  {
   "cell_type": "code",
   "execution_count": 461,
   "metadata": {},
   "outputs": [],
   "source": [
    "year_subject_race_count = police.groupby(['year_of_date','subject_race'], as_index=False)['date'].count()\n",
    "year_subject_race_count.columns = ['year','subject_race','count']"
   ]
  },
  {
   "cell_type": "code",
   "execution_count": 462,
   "metadata": {},
   "outputs": [
    {
     "data": {
      "image/png": "[encoded data removed]",
      "text/plain": [
       "<Figure size 640x480 with 1 Axes>"
      ]
     },
     "metadata": {},
     "output_type": "display_data"
    },
    {
     "data": {
      "text/plain": [
       "<ggplot: (8774451063749)>"
      ]
     },
     "execution_count": 462,
     "metadata": {},
     "output_type": "execute_result"
    }
   ],
   "source": [
    "ggplot(year_subject_race_count, aes(x='year', y='count', group='subject_race', color='subject_race')) + geom_line() + labs(x='Year', y='Number of Stops')"
   ]
  },
  {
   "cell_type": "markdown",
   "metadata": {},
   "source": [
    "The trend looks almost similar amongst white/ Hispanic and black races. Whites were pulled over more often than any other race in Austin area but without incorporating individual race population this graph does not paint a clear picture. Lets looks at the percentage of total number of pull overs by race per year."
   ]
  },
  {
   "cell_type": "code",
   "execution_count": 463,
   "metadata": {},
   "outputs": [
    {
     "data": {
      "image/png": "[encoded data removed]",
      "text/plain": [
       "<Figure size 640x480 with 1 Axes>"
      ]
     },
     "metadata": {},
     "output_type": "display_data"
    },
    {
     "data": {
      "text/plain": [
       "<ggplot: (8774444849473)>"
      ]
     },
     "execution_count": 463,
     "metadata": {},
     "output_type": "execute_result"
    }
   ],
   "source": [
    "year_subject_race_count['pct_count'] = year_subject_race_count.groupby(['year'])['count'].apply(lambda x: x/x.sum())\n",
    "ggplot(year_subject_race_count, aes(x='year', y='pct_count', group='subject_race', color='subject_race')) + geom_line() + labs(x='Year', y='Percent of Total number of Stops')"
   ]
  },
  {
   "cell_type": "markdown",
   "metadata": {},
   "source": [
    "This graph paints a different picture. Percent of total number of stops has been consistent for black, asian/pacific highlander and others. While, it has decreased for white and increased for hispanics. Again, this could be due to population variation among different races in each year."
   ]
  },
  {
   "cell_type": "code",
   "execution_count": 464,
   "metadata": {},
   "outputs": [
    {
     "name": "stderr",
     "output_type": "stream",
     "text": [
      "/home/sumit/.local/lib/python3.7/site-packages/plotnine/layer.py:433: PlotnineWarning: position_stack : Removed 1 rows containing missing values.\n",
      "  data = self.position.setup_data(self.data, params)\n"
     ]
    },
    {
     "data": {
      "image/png": "[encoded data removed]",
      "text/plain": [
       "<Figure size 640x480 with 1 Axes>"
      ]
     },
     "metadata": {},
     "output_type": "display_data"
    },
    {
     "data": {
      "text/plain": [
       "<ggplot: (8774444856573)>"
      ]
     },
     "execution_count": 464,
     "metadata": {},
     "output_type": "execute_result"
    }
   ],
   "source": [
    "year_gender_count=police.groupby(['year_of_date', 'subject_sex'], as_index=False)['date'].count()\n",
    "year_gender_count.columns = ['year','gender','count_incidents']\n",
    "#year_sex_count['pct_count']=year_sex_count.groupby(['year'])['count'].apply(lambda x: x/sum(x))\n",
    "(ggplot(year_gender_count, aes(x='year',y='count_incidents', fill='gender')) \n",
    " + geom_bar(stat='identity',position='fill')\n",
    " + labs(x='year', y='Percent of total number of stops')\n",
    " + theme(axis_text_x=element_text(angle=45)))\n"
   ]
  },
  {
   "cell_type": "markdown",
   "metadata": {},
   "source": [
    "It is clear from the plot that males are pulled over more often than females. There were a few observations without gender information showing up as other in the legend. That population is so small that you can barely see it in the bar chart in 2010."
   ]
  },
  {
   "cell_type": "code",
   "execution_count": 465,
   "metadata": {},
   "outputs": [
    {
     "data": {
      "image/png": "[encoded data removed]",
      "text/plain": [
       "<Figure size 640x480 with 1 Axes>"
      ]
     },
     "metadata": {},
     "output_type": "display_data"
    },
    {
     "data": {
      "text/plain": [
       "<ggplot: (8774461054313)>"
      ]
     },
     "execution_count": 465,
     "metadata": {},
     "output_type": "execute_result"
    }
   ],
   "source": [
    "year_frisk_race = police[police['frisk_performed']==True].groupby(['year_of_date', 'subject_race'], as_index=False)['frisk_performed'].count()\n",
    "year_frisk_race.columns = ['year','race','count']\n",
    "(ggplot(year_frisk_race, aes(x='year', y='count', fill='race')) \n",
    "  + geom_bar(stat='identity', position='dodge')\n",
    "  + labs(x='year', y='Number of stops resulting in frisking by officer', fill='Race')\n",
    "  + theme(axis_text_x=element_text(angle=45)))\n"
   ]
  },
  {
   "cell_type": "markdown",
   "metadata": {},
   "source": [
    "Number of stops resulting in frisking is more for hispanics than other races since 2010. Let's see what percentage of stops result in frisking for each of the races."
   ]
  },
  {
   "cell_type": "code",
   "execution_count": 466,
   "metadata": {},
   "outputs": [
    {
     "data": {
      "image/png": "[encoded data removed]",
      "text/plain": [
       "<Figure size 640x480 with 1 Axes>"
      ]
     },
     "metadata": {},
     "output_type": "display_data"
    },
    {
     "data": {
      "text/plain": [
       "<ggplot: (8774446761141)>"
      ]
     },
     "execution_count": 466,
     "metadata": {},
     "output_type": "execute_result"
    }
   ],
   "source": [
    "year_frisk_race_pct  = year_frisk_race.merge(year_subject_race_count, left_on = ['year', 'race'], right_on=['year','subject_race'], how='inner', suffixes=('_left', '_right'))\n",
    "year_frisk_race_pct.drop(['subject_race'], inplace=True, axis=1)\n",
    "year_frisk_race_pct['pct_count']=year_frisk_race_pct['count_left'].div(year_frisk_race_pct['count_right'])\n",
    "(ggplot(year_frisk_race_pct, aes(x='year',y='pct_count', fill='race')) \n",
    "  + geom_bar(stat='identity', position='dodge')\n",
    "  + labs(x='year', y='Ratio of frisking incidents over number of stops', fill='Race'))"
   ]
  },
  {
   "cell_type": "markdown",
   "metadata": {},
   "source": [
    "For Blacks and hispanics a stop ends up with frisking almost 30% or more of the time."
   ]
  }
 ],
 "metadata": {
  "kernelspec": {
   "display_name": "Python 3",
   "language": "python",
   "name": "python3"
  },
  "language_info": {
   "codemirror_mode": {
    "name": "ipython",
    "version": 3
   },
   "file_extension": ".py",
   "mimetype": "text/x-python",
   "name": "python",
   "nbconvert_exporter": "python",
   "pygments_lexer": "ipython3",
   "version": "3.7.5"
  }
 },
 "nbformat": 4,
 "nbformat_minor": 4
}
